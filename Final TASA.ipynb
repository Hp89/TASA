{
 "cells": [
  {
   "cell_type": "markdown",
   "metadata": {},
   "source": [
    "# Topic Adaptive Sentiment Analysis"
   ]
  },
  {
   "cell_type": "markdown",
   "metadata": {},
   "source": [
    "## AAHP Approach"
   ]
  },
  {
   "cell_type": "markdown",
   "metadata": {},
   "source": [
    "### Modules"
   ]
  },
  {
   "cell_type": "code",
   "execution_count": 2,
   "metadata": {
    "collapsed": true
   },
   "outputs": [],
   "source": [
    "import pandas as pd\n",
    "from textblob import TextBlob\n",
    "import csv,os"
   ]
  },
  {
   "cell_type": "markdown",
   "metadata": {},
   "source": [
    "### Calculating Learning Parameter"
   ]
  },
  {
   "cell_type": "code",
   "execution_count": 3,
   "metadata": {
    "collapsed": true
   },
   "outputs": [],
   "source": [
    "import pandas as pd\n",
    "from textblob import TextBlob\n",
    "df = pd.read_csv(r\"L:\\HP\\Data Mining\\TASA\\Scrapy\\tutorial\\scrapped.csv\")\n",
    "news = df[\"text\"].dropna()\n",
    "ps = 0;tnew = 0.0;ratios = []\n",
    "ratio = 0.0;\n",
    "paragraph = []\n",
    "for new in news:\n",
    "    senval = []\n",
    "    senew = TextBlob(new).sentences\n",
    "    parapol = TextBlob(new).sentiment.polarity\n",
    "    #print(\"Paragraph pol\",parapol)\n",
    "    count = 0\n",
    "    for sen in senew:\n",
    "        count = count + 1\n",
    "        senpol = sen.sentiment.polarity\n",
    "        try:\n",
    "            ratio = senpol/parapol\n",
    "            ratios.append(ratio)\n",
    "        except ZeroDivisionError:\n",
    "            ratios.append(0)"
   ]
  },
  {
   "cell_type": "markdown",
   "metadata": {},
   "source": [
    "### Storing Learnt Parameter"
   ]
  },
  {
   "cell_type": "code",
   "execution_count": 5,
   "metadata": {
    "scrolled": true
   },
   "outputs": [],
   "source": [
    "file = open(r\"L:\\HP\\Data Mining\\TASA\\Bags\\Ratio.csv\",'w')\n",
    "file.write(str(ratios));"
   ]
  },
  {
   "cell_type": "markdown",
   "metadata": {},
   "source": [
    "### Loading Supplementary Learnt Parameters"
   ]
  },
  {
   "cell_type": "code",
   "execution_count": 7,
   "metadata": {
    "collapsed": true
   },
   "outputs": [],
   "source": [
    "pathp = r\"\"\"L:\\HP\\Data Mining\\TASA\\Bags\\Data\\Positive\\ \"\"\"\n",
    "pathneg = r\"\"\"L:\\HP\\Data Mining\\TASA\\Bags\\Data\\Negative\\ \"\"\"\n",
    "pathneu = r\"\"\"L:\\HP\\Data Mining\\TASA\\Bags\\Data\\Neutral\\ \"\"\"\n",
    "ldp = os.listdir(pathp.strip())\n",
    "ldneg = os.listdir(pathneg.strip())\n",
    "ldneu = os.listdir(pathneu.strip())\n",
    "positive,negative,neutral = [],[],[]\n",
    "for a in ldp:\n",
    "    positive=(eval(open(str(pathp.strip()+a),'r').read()))\n",
    "for b in ldneg:\n",
    "    negative=(eval(open(str(pathneg.strip()+b),'r').read()))\n",
    "for c in ldneu:\n",
    "    neutral=(eval(open(str(pathneu.strip()+c),'r').read()))"
   ]
  },
  {
   "cell_type": "markdown",
   "metadata": {},
   "source": [
    "### Test Function"
   ]
  },
  {
   "cell_type": "code",
   "execution_count": 8,
   "metadata": {
    "collapsed": true
   },
   "outputs": [],
   "source": [
    "def test(text):\n",
    "    pdepend=0.0;ndepend=0.0;nedepend = 0.0;\n",
    "    pcount=0;ncount=0;necount=0;\n",
    "    ttext = TextBlob(text)\n",
    "    #print(ttext)\n",
    "    twords = ttext.words\n",
    "    #print(twords)\n",
    "    for word in twords:\n",
    "        if word in positive:\n",
    "            pcount+=1\n",
    "        elif word in negative:\n",
    "            ncount+=1\n",
    "        elif word in neutral:\n",
    "            necount+=1\n",
    "    tcount = pcount+ncount+necount\n",
    "    pdepend = pcount/tcount\n",
    "    ndepend = ncount/tcount\n",
    "    nedepend = necount/tcount\n",
    "    print(pdepend,ndepend,nedepend)\n",
    "    return max(pdepend,ndepend,nedepend)"
   ]
  }
 ],
 "metadata": {
  "kernelspec": {
   "display_name": "Python 3",
   "language": "python",
   "name": "python3"
  },
  "language_info": {
   "codemirror_mode": {
    "name": "ipython",
    "version": 3
   },
   "file_extension": ".py",
   "mimetype": "text/x-python",
   "name": "python",
   "nbconvert_exporter": "python",
   "pygments_lexer": "ipython3",
   "version": "3.6.1"
  }
 },
 "nbformat": 4,
 "nbformat_minor": 2
}
